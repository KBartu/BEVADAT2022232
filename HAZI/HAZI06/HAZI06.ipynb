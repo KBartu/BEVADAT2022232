{
 "cells": [
  {
   "cell_type": "code",
   "execution_count": 14,
   "metadata": {},
   "outputs": [
    {
     "name": "stdout",
     "output_type": "stream",
     "text": [
      "0.79075\n"
     ]
    }
   ],
   "source": [
    "import pandas as pd\n",
    "from sklearn.model_selection import train_test_split\n",
    "from sklearn.metrics import accuracy_score\n",
    "from NJCleaner import NJCleaner\n",
    "from DecisionTreeClassifier import DecisionTreeClassifier\n",
    "\n",
    "nj = NJCleaner('./2018_03.csv')\n",
    "nj.prep_df()\n",
    "\n",
    "column_names = ['stop_sequence', 'from_id', 'to_id', 'status', 'line', 'type', 'day', 'part_of_the_day', 'delay']\n",
    "data = pd.read_csv('./data/NJ.csv', skiprows=1, header=None, names=column_names)\n",
    "\n",
    "X = data.iloc[:,:-1].values\n",
    "Y = data.iloc[:,-1].values.reshape(-1,1)\n",
    "X_train, X_test, Y_train, Y_test = train_test_split(X,Y, test_size=.2, random_state=41)\n",
    "\n",
    "classifier = DecisionTreeClassifier(min_samples_split=5, max_depth=5)\n",
    "classifier.fit(X_train, Y_train)\n",
    "\n",
    "Y_pred = classifier.predict(X_test)\n",
    "print(accuracy_score(Y_test, Y_pred))"
   ]
  }
 ],
 "metadata": {
  "kernelspec": {
   "display_name": "Python 3",
   "language": "python",
   "name": "python3"
  },
  "language_info": {
   "codemirror_mode": {
    "name": "ipython",
    "version": 3
   },
   "file_extension": ".py",
   "mimetype": "text/x-python",
   "name": "python",
   "nbconvert_exporter": "python",
   "pygments_lexer": "ipython3",
   "version": "3.10.10"
  },
  "orig_nbformat": 4
 },
 "nbformat": 4,
 "nbformat_minor": 2
}
